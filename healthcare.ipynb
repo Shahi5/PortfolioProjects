{
 "cells": [
  {
   "cell_type": "code",
   "execution_count": 1,
   "metadata": {},
   "outputs": [],
   "source": [
    "import pandas as pd\n",
    "import numpy as np\n",
    "import matplotlib.pyplot as plt\n",
    "import seaborn as sns"
   ]
  },
  {
   "cell_type": "code",
   "execution_count": 2,
   "metadata": {},
   "outputs": [],
   "source": [
    "df = pd.read_csv(r\"healthcare_data.csv\", encoding='unicode_escape')"
   ]
  },
  {
   "cell_type": "code",
   "execution_count": 5,
   "metadata": {},
   "outputs": [
    {
     "data": {
      "text/html": [
       "<div>\n",
       "<style scoped>\n",
       "    .dataframe tbody tr th:only-of-type {\n",
       "        vertical-align: middle;\n",
       "    }\n",
       "\n",
       "    .dataframe tbody tr th {\n",
       "        vertical-align: top;\n",
       "    }\n",
       "\n",
       "    .dataframe thead th {\n",
       "        text-align: right;\n",
       "    }\n",
       "</style>\n",
       "<table border=\"1\" class=\"dataframe\">\n",
       "  <thead>\n",
       "    <tr style=\"text-align: right;\">\n",
       "      <th></th>\n",
       "      <th>Name</th>\n",
       "      <th>Gender</th>\n",
       "      <th>Blood Type</th>\n",
       "      <th>Medical Condition</th>\n",
       "      <th>Date of Admission</th>\n",
       "      <th>Discharge Date</th>\n",
       "      <th>Age</th>\n",
       "      <th>Days of treatment</th>\n",
       "      <th>Month of admission</th>\n",
       "      <th>Doctor</th>\n",
       "      <th>Hospital</th>\n",
       "      <th>Room Number</th>\n",
       "      <th>Insurance Provider</th>\n",
       "      <th>Bill amount</th>\n",
       "      <th>Admission Type</th>\n",
       "      <th>Test Results</th>\n",
       "      <th>Medication</th>\n",
       "    </tr>\n",
       "  </thead>\n",
       "  <tbody>\n",
       "    <tr>\n",
       "      <th>0</th>\n",
       "      <td>Bobby Jackson</td>\n",
       "      <td>Male</td>\n",
       "      <td>B-</td>\n",
       "      <td>Cancer</td>\n",
       "      <td>31/1/24</td>\n",
       "      <td>2/2/24</td>\n",
       "      <td>30</td>\n",
       "      <td>2</td>\n",
       "      <td>Jan</td>\n",
       "      <td>Matthew Smith</td>\n",
       "      <td>Sons and Miller</td>\n",
       "      <td>328</td>\n",
       "      <td>Blue Cross</td>\n",
       "      <td>18856.2813</td>\n",
       "      <td>Urgent</td>\n",
       "      <td>Normal</td>\n",
       "      <td>Paracetamol</td>\n",
       "    </tr>\n",
       "    <tr>\n",
       "      <th>1</th>\n",
       "      <td>Leslie Terry</td>\n",
       "      <td>Male</td>\n",
       "      <td>A+</td>\n",
       "      <td>Obesity</td>\n",
       "      <td>20/8/19</td>\n",
       "      <td>26/8/19</td>\n",
       "      <td>62</td>\n",
       "      <td>6</td>\n",
       "      <td>Aug</td>\n",
       "      <td>Samantha Davies</td>\n",
       "      <td>Kim Inc</td>\n",
       "      <td>265</td>\n",
       "      <td>Medicare</td>\n",
       "      <td>33643.3273</td>\n",
       "      <td>Emergency</td>\n",
       "      <td>Inconclusive</td>\n",
       "      <td>Ibuprofen</td>\n",
       "    </tr>\n",
       "    <tr>\n",
       "      <th>2</th>\n",
       "      <td>Danny Smith</td>\n",
       "      <td>Female</td>\n",
       "      <td>A-</td>\n",
       "      <td>Obesity</td>\n",
       "      <td>22/9/22</td>\n",
       "      <td>7/10/22</td>\n",
       "      <td>76</td>\n",
       "      <td>15</td>\n",
       "      <td>Sep</td>\n",
       "      <td>Tiffany Mitchell</td>\n",
       "      <td>Cook PLC</td>\n",
       "      <td>205</td>\n",
       "      <td>Aetna</td>\n",
       "      <td>27955.0961</td>\n",
       "      <td>Emergency</td>\n",
       "      <td>Normal</td>\n",
       "      <td>Aspirin</td>\n",
       "    </tr>\n",
       "    <tr>\n",
       "      <th>3</th>\n",
       "      <td>Andrew Watts</td>\n",
       "      <td>Female</td>\n",
       "      <td>O+</td>\n",
       "      <td>Diabetes</td>\n",
       "      <td>18/11/20</td>\n",
       "      <td>18/12/20</td>\n",
       "      <td>28</td>\n",
       "      <td>30</td>\n",
       "      <td>Nov</td>\n",
       "      <td>Kevin Wells</td>\n",
       "      <td>Hernandez Rogers and Vang,</td>\n",
       "      <td>450</td>\n",
       "      <td>Medicare</td>\n",
       "      <td>37909.7824</td>\n",
       "      <td>Elective</td>\n",
       "      <td>Abnormal</td>\n",
       "      <td>Ibuprofen</td>\n",
       "    </tr>\n",
       "    <tr>\n",
       "      <th>4</th>\n",
       "      <td>Adrienne Bell</td>\n",
       "      <td>Female</td>\n",
       "      <td>AB+</td>\n",
       "      <td>Cancer</td>\n",
       "      <td>19/9/22</td>\n",
       "      <td>9/10/22</td>\n",
       "      <td>43</td>\n",
       "      <td>20</td>\n",
       "      <td>Sep</td>\n",
       "      <td>Kathleen Hanna</td>\n",
       "      <td>White-White</td>\n",
       "      <td>458</td>\n",
       "      <td>Aetna</td>\n",
       "      <td>14238.3178</td>\n",
       "      <td>Urgent</td>\n",
       "      <td>Abnormal</td>\n",
       "      <td>Penicillin</td>\n",
       "    </tr>\n",
       "  </tbody>\n",
       "</table>\n",
       "</div>"
      ],
      "text/plain": [
       "            Name  Gender Blood Type Medical Condition Date of Admission  \\\n",
       "0  Bobby Jackson    Male         B-            Cancer           31/1/24   \n",
       "1   Leslie Terry    Male         A+           Obesity           20/8/19   \n",
       "2    Danny Smith  Female         A-           Obesity           22/9/22   \n",
       "3   Andrew Watts  Female         O+          Diabetes          18/11/20   \n",
       "4  Adrienne Bell  Female        AB+            Cancer           19/9/22   \n",
       "\n",
       "  Discharge Date  Age  Days of treatment Month of admission            Doctor  \\\n",
       "0         2/2/24   30                  2                Jan     Matthew Smith   \n",
       "1        26/8/19   62                  6                Aug   Samantha Davies   \n",
       "2        7/10/22   76                 15                Sep  Tiffany Mitchell   \n",
       "3       18/12/20   28                 30                Nov       Kevin Wells   \n",
       "4        9/10/22   43                 20                Sep    Kathleen Hanna   \n",
       "\n",
       "                     Hospital  Room Number Insurance Provider  Bill amount  \\\n",
       "0             Sons and Miller          328         Blue Cross   18856.2813   \n",
       "1                     Kim Inc          265           Medicare   33643.3273   \n",
       "2                    Cook PLC          205              Aetna   27955.0961   \n",
       "3  Hernandez Rogers and Vang,          450           Medicare   37909.7824   \n",
       "4                 White-White          458              Aetna   14238.3178   \n",
       "\n",
       "  Admission Type  Test Results   Medication  \n",
       "0         Urgent        Normal  Paracetamol  \n",
       "1      Emergency  Inconclusive    Ibuprofen  \n",
       "2      Emergency        Normal      Aspirin  \n",
       "3       Elective      Abnormal    Ibuprofen  \n",
       "4         Urgent      Abnormal   Penicillin  "
      ]
     },
     "execution_count": 5,
     "metadata": {},
     "output_type": "execute_result"
    }
   ],
   "source": [
    "df.head()"
   ]
  },
  {
   "cell_type": "code",
   "execution_count": 5,
   "metadata": {},
   "outputs": [],
   "source": [
    "df.rename(columns={'Billing Amount' : 'Bill amount'}, inplace=True)"
   ]
  },
  {
   "cell_type": "code",
   "execution_count": 5,
   "metadata": {},
   "outputs": [
    {
     "data": {
      "text/html": [
       "<div>\n",
       "<style scoped>\n",
       "    .dataframe tbody tr th:only-of-type {\n",
       "        vertical-align: middle;\n",
       "    }\n",
       "\n",
       "    .dataframe tbody tr th {\n",
       "        vertical-align: top;\n",
       "    }\n",
       "\n",
       "    .dataframe thead th {\n",
       "        text-align: right;\n",
       "    }\n",
       "</style>\n",
       "<table border=\"1\" class=\"dataframe\">\n",
       "  <thead>\n",
       "    <tr style=\"text-align: right;\">\n",
       "      <th></th>\n",
       "      <th>Age</th>\n",
       "      <th>Days of treatment</th>\n",
       "      <th>Room Number</th>\n",
       "      <th>Billing Amount</th>\n",
       "    </tr>\n",
       "  </thead>\n",
       "  <tbody>\n",
       "    <tr>\n",
       "      <th>count</th>\n",
       "      <td>54966.000000</td>\n",
       "      <td>54966.000000</td>\n",
       "      <td>54966.000000</td>\n",
       "      <td>54966.000000</td>\n",
       "    </tr>\n",
       "    <tr>\n",
       "      <th>mean</th>\n",
       "      <td>51.535185</td>\n",
       "      <td>15.499290</td>\n",
       "      <td>301.124404</td>\n",
       "      <td>25544.306289</td>\n",
       "    </tr>\n",
       "    <tr>\n",
       "      <th>std</th>\n",
       "      <td>19.605661</td>\n",
       "      <td>8.661471</td>\n",
       "      <td>115.223143</td>\n",
       "      <td>14208.409712</td>\n",
       "    </tr>\n",
       "    <tr>\n",
       "      <th>min</th>\n",
       "      <td>13.000000</td>\n",
       "      <td>1.000000</td>\n",
       "      <td>101.000000</td>\n",
       "      <td>-2008.492100</td>\n",
       "    </tr>\n",
       "    <tr>\n",
       "      <th>25%</th>\n",
       "      <td>35.000000</td>\n",
       "      <td>8.000000</td>\n",
       "      <td>202.000000</td>\n",
       "      <td>13243.718625</td>\n",
       "    </tr>\n",
       "    <tr>\n",
       "      <th>50%</th>\n",
       "      <td>52.000000</td>\n",
       "      <td>15.000000</td>\n",
       "      <td>302.000000</td>\n",
       "      <td>25542.749150</td>\n",
       "    </tr>\n",
       "    <tr>\n",
       "      <th>75%</th>\n",
       "      <td>68.000000</td>\n",
       "      <td>23.000000</td>\n",
       "      <td>401.000000</td>\n",
       "      <td>37819.858175</td>\n",
       "    </tr>\n",
       "    <tr>\n",
       "      <th>max</th>\n",
       "      <td>89.000000</td>\n",
       "      <td>30.000000</td>\n",
       "      <td>500.000000</td>\n",
       "      <td>52764.276700</td>\n",
       "    </tr>\n",
       "  </tbody>\n",
       "</table>\n",
       "</div>"
      ],
      "text/plain": [
       "                Age  Days of treatment   Room Number  Billing Amount\n",
       "count  54966.000000       54966.000000  54966.000000    54966.000000\n",
       "mean      51.535185          15.499290    301.124404    25544.306289\n",
       "std       19.605661           8.661471    115.223143    14208.409712\n",
       "min       13.000000           1.000000    101.000000    -2008.492100\n",
       "25%       35.000000           8.000000    202.000000    13243.718625\n",
       "50%       52.000000          15.000000    302.000000    25542.749150\n",
       "75%       68.000000          23.000000    401.000000    37819.858175\n",
       "max       89.000000          30.000000    500.000000    52764.276700"
      ]
     },
     "execution_count": 5,
     "metadata": {},
     "output_type": "execute_result"
    }
   ],
   "source": [
    "# A general descriptive analysis of the data.\n",
    "df.describe()"
   ]
  },
  {
   "cell_type": "code",
   "execution_count": 6,
   "metadata": {},
   "outputs": [
    {
     "data": {
      "text/plain": [
       "(54966, 17)"
      ]
     },
     "execution_count": 6,
     "metadata": {},
     "output_type": "execute_result"
    }
   ],
   "source": [
    "df.shape"
   ]
  },
  {
   "cell_type": "code",
   "execution_count": 4,
   "metadata": {},
   "outputs": [
    {
     "data": {
      "text/plain": [
       "Index(['Name', 'Gender', 'Blood Type', 'Medical Condition',\n",
       "       'Date of Admission', 'Discharge Date', 'Age', 'Days of treatment',\n",
       "       'Month of admission', 'Doctor', 'Hospital', 'Room Number',\n",
       "       'Insurance Provider', 'Billing Amount', 'Admission Type',\n",
       "       'Test Results', 'Medication'],\n",
       "      dtype='object')"
      ]
     },
     "execution_count": 4,
     "metadata": {},
     "output_type": "execute_result"
    }
   ],
   "source": [
    "df.columns"
   ]
  },
  {
   "cell_type": "code",
   "execution_count": 5,
   "metadata": {},
   "outputs": [
    {
     "name": "stdout",
     "output_type": "stream",
     "text": [
      "<class 'pandas.core.frame.DataFrame'>\n",
      "RangeIndex: 54966 entries, 0 to 54965\n",
      "Data columns (total 17 columns):\n",
      " #   Column              Non-Null Count  Dtype  \n",
      "---  ------              --------------  -----  \n",
      " 0   Name                54966 non-null  object \n",
      " 1   Gender              54966 non-null  object \n",
      " 2   Blood Type          54966 non-null  object \n",
      " 3   Medical Condition   54966 non-null  object \n",
      " 4   Date of Admission   54966 non-null  object \n",
      " 5   Discharge Date      54966 non-null  object \n",
      " 6   Age                 54966 non-null  int64  \n",
      " 7   Days of treatment   54966 non-null  int64  \n",
      " 8   Month of admission  54966 non-null  object \n",
      " 9   Doctor              54966 non-null  object \n",
      " 10  Hospital            54966 non-null  object \n",
      " 11  Room Number         54966 non-null  int64  \n",
      " 12  Insurance Provider  54966 non-null  object \n",
      " 13  Billing Amount      54966 non-null  float64\n",
      " 14  Admission Type      54966 non-null  object \n",
      " 15  Test Results        54966 non-null  object \n",
      " 16  Medication          54966 non-null  object \n",
      "dtypes: float64(1), int64(3), object(13)\n",
      "memory usage: 7.1+ MB\n"
     ]
    }
   ],
   "source": [
    "df.info()"
   ]
  },
  {
   "cell_type": "code",
   "execution_count": 6,
   "metadata": {},
   "outputs": [
    {
     "data": {
      "text/plain": [
       "Name                  0\n",
       "Gender                0\n",
       "Blood Type            0\n",
       "Medical Condition     0\n",
       "Date of Admission     0\n",
       "Discharge Date        0\n",
       "Age                   0\n",
       "Days of treatment     0\n",
       "Month of admission    0\n",
       "Doctor                0\n",
       "Hospital              0\n",
       "Room Number           0\n",
       "Insurance Provider    0\n",
       "Billing Amount        0\n",
       "Admission Type        0\n",
       "Test Results          0\n",
       "Medication            0\n",
       "dtype: int64"
      ]
     },
     "execution_count": 6,
     "metadata": {},
     "output_type": "execute_result"
    }
   ],
   "source": [
    "# Code to have the sum of all the null values in the dataset.\n",
    "df.isnull().sum()"
   ]
  },
  {
   "cell_type": "code",
   "execution_count": 8,
   "metadata": {},
   "outputs": [
    {
     "data": {
      "text/plain": [
       "Name                  40235\n",
       "Gender                    2\n",
       "Blood Type                8\n",
       "Medical Condition         6\n",
       "Date of Admission      1827\n",
       "Discharge Date         1856\n",
       "Age                      77\n",
       "Days of treatment        30\n",
       "Month of admission       12\n",
       "Doctor                40341\n",
       "Hospital              39876\n",
       "Room Number             400\n",
       "Insurance Provider        5\n",
       "Billing Amount        49997\n",
       "Admission Type            3\n",
       "Test Results              3\n",
       "Medication                5\n",
       "dtype: int64"
      ]
     },
     "execution_count": 8,
     "metadata": {},
     "output_type": "execute_result"
    }
   ],
   "source": [
    "# The unique values in each of the columns in the dataset.\n",
    "df.nunique()"
   ]
  },
  {
   "cell_type": "code",
   "execution_count": 10,
   "metadata": {},
   "outputs": [
    {
     "data": {
      "text/html": [
       "<div>\n",
       "<style scoped>\n",
       "    .dataframe tbody tr th:only-of-type {\n",
       "        vertical-align: middle;\n",
       "    }\n",
       "\n",
       "    .dataframe tbody tr th {\n",
       "        vertical-align: top;\n",
       "    }\n",
       "\n",
       "    .dataframe thead th {\n",
       "        text-align: right;\n",
       "    }\n",
       "</style>\n",
       "<table border=\"1\" class=\"dataframe\">\n",
       "  <thead>\n",
       "    <tr style=\"text-align: right;\">\n",
       "      <th></th>\n",
       "      <th>Name</th>\n",
       "      <th>Gender</th>\n",
       "      <th>Blood Type</th>\n",
       "      <th>Medical Condition</th>\n",
       "      <th>Date of Admission</th>\n",
       "      <th>Discharge Date</th>\n",
       "      <th>Age</th>\n",
       "      <th>Days of treatment</th>\n",
       "      <th>Month of admission</th>\n",
       "      <th>Doctor</th>\n",
       "      <th>Hospital</th>\n",
       "      <th>Room Number</th>\n",
       "      <th>Insurance Provider</th>\n",
       "      <th>Billing Amount</th>\n",
       "      <th>Admission Type</th>\n",
       "      <th>Test Results</th>\n",
       "      <th>Medication</th>\n",
       "    </tr>\n",
       "  </thead>\n",
       "  <tbody>\n",
       "    <tr>\n",
       "      <th>36349</th>\n",
       "      <td>Todd Carrillo</td>\n",
       "      <td>Female</td>\n",
       "      <td>A+</td>\n",
       "      <td>Hypertension</td>\n",
       "      <td>8/9/23</td>\n",
       "      <td>4/10/23</td>\n",
       "      <td>51</td>\n",
       "      <td>26</td>\n",
       "      <td>Sep</td>\n",
       "      <td>Kathleen Griffin</td>\n",
       "      <td>Griffin Group</td>\n",
       "      <td>209</td>\n",
       "      <td>Blue Cross</td>\n",
       "      <td>52764.2767</td>\n",
       "      <td>Elective</td>\n",
       "      <td>Normal</td>\n",
       "      <td>Ibuprofen</td>\n",
       "    </tr>\n",
       "    <tr>\n",
       "      <th>51183</th>\n",
       "      <td>Karen Kline</td>\n",
       "      <td>Female</td>\n",
       "      <td>AB+</td>\n",
       "      <td>Cancer</td>\n",
       "      <td>19/6/21</td>\n",
       "      <td>3/7/21</td>\n",
       "      <td>74</td>\n",
       "      <td>14</td>\n",
       "      <td>Jun</td>\n",
       "      <td>Dr. Joseph Gordon</td>\n",
       "      <td>Hernandez-Morton</td>\n",
       "      <td>181</td>\n",
       "      <td>UnitedHealthcare</td>\n",
       "      <td>52373.0324</td>\n",
       "      <td>Urgent</td>\n",
       "      <td>Inconclusive</td>\n",
       "      <td>Penicillin</td>\n",
       "    </tr>\n",
       "    <tr>\n",
       "      <th>34613</th>\n",
       "      <td>Karen Kline</td>\n",
       "      <td>Female</td>\n",
       "      <td>AB+</td>\n",
       "      <td>Cancer</td>\n",
       "      <td>19/6/21</td>\n",
       "      <td>3/7/21</td>\n",
       "      <td>79</td>\n",
       "      <td>14</td>\n",
       "      <td>Jun</td>\n",
       "      <td>Dr. Joseph Gordon</td>\n",
       "      <td>Hernandez-Morton</td>\n",
       "      <td>181</td>\n",
       "      <td>UnitedHealthcare</td>\n",
       "      <td>52373.0324</td>\n",
       "      <td>Urgent</td>\n",
       "      <td>Inconclusive</td>\n",
       "      <td>Penicillin</td>\n",
       "    </tr>\n",
       "    <tr>\n",
       "      <th>5735</th>\n",
       "      <td>David Sandoval</td>\n",
       "      <td>Male</td>\n",
       "      <td>AB-</td>\n",
       "      <td>Hypertension</td>\n",
       "      <td>2/11/19</td>\n",
       "      <td>11/11/19</td>\n",
       "      <td>22</td>\n",
       "      <td>9</td>\n",
       "      <td>Nov</td>\n",
       "      <td>Taylor Novak</td>\n",
       "      <td>Sons and Bailey</td>\n",
       "      <td>228</td>\n",
       "      <td>Blue Cross</td>\n",
       "      <td>52271.6638</td>\n",
       "      <td>Emergency</td>\n",
       "      <td>Normal</td>\n",
       "      <td>Ibuprofen</td>\n",
       "    </tr>\n",
       "    <tr>\n",
       "      <th>7088</th>\n",
       "      <td>Kathryn Gonzales</td>\n",
       "      <td>Female</td>\n",
       "      <td>O+</td>\n",
       "      <td>Diabetes</td>\n",
       "      <td>11/8/20</td>\n",
       "      <td>12/8/20</td>\n",
       "      <td>18</td>\n",
       "      <td>1</td>\n",
       "      <td>Aug</td>\n",
       "      <td>Kristin Clark</td>\n",
       "      <td>Miller Ltd</td>\n",
       "      <td>383</td>\n",
       "      <td>Aetna</td>\n",
       "      <td>52211.8530</td>\n",
       "      <td>Urgent</td>\n",
       "      <td>Inconclusive</td>\n",
       "      <td>Paracetamol</td>\n",
       "    </tr>\n",
       "    <tr>\n",
       "      <th>1574</th>\n",
       "      <td>Brett Marshall</td>\n",
       "      <td>Female</td>\n",
       "      <td>B+</td>\n",
       "      <td>Asthma</td>\n",
       "      <td>10/11/21</td>\n",
       "      <td>17/11/21</td>\n",
       "      <td>42</td>\n",
       "      <td>7</td>\n",
       "      <td>Nov</td>\n",
       "      <td>Robert Hartman</td>\n",
       "      <td>PLC Garner</td>\n",
       "      <td>140</td>\n",
       "      <td>Aetna</td>\n",
       "      <td>52181.8378</td>\n",
       "      <td>Emergency</td>\n",
       "      <td>Inconclusive</td>\n",
       "      <td>Penicillin</td>\n",
       "    </tr>\n",
       "    <tr>\n",
       "      <th>6663</th>\n",
       "      <td>Laurie Hood</td>\n",
       "      <td>Female</td>\n",
       "      <td>A-</td>\n",
       "      <td>Arthritis</td>\n",
       "      <td>27/6/21</td>\n",
       "      <td>29/6/21</td>\n",
       "      <td>42</td>\n",
       "      <td>2</td>\n",
       "      <td>Jun</td>\n",
       "      <td>Brian Riley</td>\n",
       "      <td>Walker-Garcia</td>\n",
       "      <td>306</td>\n",
       "      <td>Cigna</td>\n",
       "      <td>52170.0369</td>\n",
       "      <td>Urgent</td>\n",
       "      <td>Normal</td>\n",
       "      <td>Penicillin</td>\n",
       "    </tr>\n",
       "    <tr>\n",
       "      <th>52551</th>\n",
       "      <td>Laurie Hood</td>\n",
       "      <td>Female</td>\n",
       "      <td>A-</td>\n",
       "      <td>Arthritis</td>\n",
       "      <td>27/6/21</td>\n",
       "      <td>29/6/21</td>\n",
       "      <td>43</td>\n",
       "      <td>2</td>\n",
       "      <td>Jun</td>\n",
       "      <td>Brian Riley</td>\n",
       "      <td>Walker-Garcia</td>\n",
       "      <td>306</td>\n",
       "      <td>Cigna</td>\n",
       "      <td>52170.0369</td>\n",
       "      <td>Urgent</td>\n",
       "      <td>Normal</td>\n",
       "      <td>Penicillin</td>\n",
       "    </tr>\n",
       "    <tr>\n",
       "      <th>33117</th>\n",
       "      <td>Justin Clark</td>\n",
       "      <td>Female</td>\n",
       "      <td>AB+</td>\n",
       "      <td>Cancer</td>\n",
       "      <td>30/5/19</td>\n",
       "      <td>22/6/19</td>\n",
       "      <td>53</td>\n",
       "      <td>23</td>\n",
       "      <td>May</td>\n",
       "      <td>Andrea Jones</td>\n",
       "      <td>Ruiz-Anthony</td>\n",
       "      <td>399</td>\n",
       "      <td>UnitedHealthcare</td>\n",
       "      <td>52154.2377</td>\n",
       "      <td>Urgent</td>\n",
       "      <td>Normal</td>\n",
       "      <td>Aspirin</td>\n",
       "    </tr>\n",
       "    <tr>\n",
       "      <th>34368</th>\n",
       "      <td>Scott Powell</td>\n",
       "      <td>Female</td>\n",
       "      <td>B+</td>\n",
       "      <td>Cancer</td>\n",
       "      <td>20/5/19</td>\n",
       "      <td>29/5/19</td>\n",
       "      <td>38</td>\n",
       "      <td>9</td>\n",
       "      <td>May</td>\n",
       "      <td>Stephen Hood PhD</td>\n",
       "      <td>George-Gonzalez</td>\n",
       "      <td>155</td>\n",
       "      <td>Cigna</td>\n",
       "      <td>52102.2409</td>\n",
       "      <td>Emergency</td>\n",
       "      <td>Normal</td>\n",
       "      <td>Ibuprofen</td>\n",
       "    </tr>\n",
       "  </tbody>\n",
       "</table>\n",
       "</div>"
      ],
      "text/plain": [
       "                   Name  Gender Blood Type Medical Condition  \\\n",
       "36349     Todd Carrillo  Female         A+      Hypertension   \n",
       "51183       Karen Kline  Female        AB+            Cancer   \n",
       "34613       Karen Kline  Female        AB+            Cancer   \n",
       "5735     David Sandoval    Male        AB-      Hypertension   \n",
       "7088   Kathryn Gonzales  Female         O+          Diabetes   \n",
       "1574     Brett Marshall  Female         B+            Asthma   \n",
       "6663        Laurie Hood  Female         A-         Arthritis   \n",
       "52551       Laurie Hood  Female         A-         Arthritis   \n",
       "33117      Justin Clark  Female        AB+            Cancer   \n",
       "34368      Scott Powell  Female         B+            Cancer   \n",
       "\n",
       "      Date of Admission Discharge Date  Age  Days of treatment  \\\n",
       "36349            8/9/23        4/10/23   51                 26   \n",
       "51183           19/6/21         3/7/21   74                 14   \n",
       "34613           19/6/21         3/7/21   79                 14   \n",
       "5735            2/11/19       11/11/19   22                  9   \n",
       "7088            11/8/20        12/8/20   18                  1   \n",
       "1574           10/11/21       17/11/21   42                  7   \n",
       "6663            27/6/21        29/6/21   42                  2   \n",
       "52551           27/6/21        29/6/21   43                  2   \n",
       "33117           30/5/19        22/6/19   53                 23   \n",
       "34368           20/5/19        29/5/19   38                  9   \n",
       "\n",
       "      Month of admission             Doctor          Hospital  Room Number  \\\n",
       "36349                Sep   Kathleen Griffin     Griffin Group          209   \n",
       "51183                Jun  Dr. Joseph Gordon  Hernandez-Morton          181   \n",
       "34613                Jun  Dr. Joseph Gordon  Hernandez-Morton          181   \n",
       "5735                 Nov       Taylor Novak   Sons and Bailey          228   \n",
       "7088                 Aug      Kristin Clark        Miller Ltd          383   \n",
       "1574                 Nov     Robert Hartman        PLC Garner          140   \n",
       "6663                 Jun        Brian Riley     Walker-Garcia          306   \n",
       "52551                Jun        Brian Riley     Walker-Garcia          306   \n",
       "33117                May       Andrea Jones      Ruiz-Anthony          399   \n",
       "34368                May   Stephen Hood PhD   George-Gonzalez          155   \n",
       "\n",
       "      Insurance Provider  Billing Amount Admission Type  Test Results  \\\n",
       "36349         Blue Cross      52764.2767       Elective        Normal   \n",
       "51183   UnitedHealthcare      52373.0324         Urgent  Inconclusive   \n",
       "34613   UnitedHealthcare      52373.0324         Urgent  Inconclusive   \n",
       "5735          Blue Cross      52271.6638      Emergency        Normal   \n",
       "7088               Aetna      52211.8530         Urgent  Inconclusive   \n",
       "1574               Aetna      52181.8378      Emergency  Inconclusive   \n",
       "6663               Cigna      52170.0369         Urgent        Normal   \n",
       "52551              Cigna      52170.0369         Urgent        Normal   \n",
       "33117   UnitedHealthcare      52154.2377         Urgent        Normal   \n",
       "34368              Cigna      52102.2409      Emergency        Normal   \n",
       "\n",
       "        Medication  \n",
       "36349    Ibuprofen  \n",
       "51183   Penicillin  \n",
       "34613   Penicillin  \n",
       "5735     Ibuprofen  \n",
       "7088   Paracetamol  \n",
       "1574    Penicillin  \n",
       "6663    Penicillin  \n",
       "52551   Penicillin  \n",
       "33117      Aspirin  \n",
       "34368    Ibuprofen  "
      ]
     },
     "execution_count": 10,
     "metadata": {},
     "output_type": "execute_result"
    }
   ],
   "source": [
    "# Code that sorts the billing amount in descending order.\n",
    "df.sort_values(by=\"Billing Amount\", ascending=False).head(10)"
   ]
  },
  {
   "cell_type": "code",
   "execution_count": 7,
   "metadata": {},
   "outputs": [
    {
     "data": {
      "text/plain": [
       "array(['B-', 'A+', 'A-', 'O+', 'AB+', 'AB-', 'B+', 'O-'], dtype=object)"
      ]
     },
     "execution_count": 7,
     "metadata": {},
     "output_type": "execute_result"
    }
   ],
   "source": [
    "df[\"Blood Type\"].unique()"
   ]
  },
  {
   "cell_type": "code",
   "execution_count": 8,
   "metadata": {},
   "outputs": [
    {
     "data": {
      "text/plain": [
       "array([[<Axes: title={'center': 'Age'}>]], dtype=object)"
      ]
     },
     "execution_count": 8,
     "metadata": {},
     "output_type": "execute_result"
    },
    {
     "data": {
      "image/png": "[encoded data removed]",
      "text/plain": [
       "<Figure size 900x600 with 1 Axes>"
      ]
     },
     "metadata": {},
     "output_type": "display_data"
    }
   ],
   "source": [
    "# Making a histogram on the age of the patients\n",
    "df.hist(\"Age\", figsize=(9,6), bins=20)"
   ]
  },
  {
   "cell_type": "code",
   "execution_count": 9,
   "metadata": {},
   "outputs": [
    {
     "data": {
      "text/plain": [
       "count    54966.000000\n",
       "mean        15.499290\n",
       "std          8.661471\n",
       "min          1.000000\n",
       "25%          8.000000\n",
       "50%         15.000000\n",
       "75%         23.000000\n",
       "max         30.000000\n",
       "Name: Days of treatment, dtype: float64"
      ]
     },
     "execution_count": 9,
     "metadata": {},
     "output_type": "execute_result"
    }
   ],
   "source": [
    "df[\"Days of treatment\"].describe()"
   ]
  },
  {
   "cell_type": "code",
   "execution_count": 6,
   "metadata": {},
   "outputs": [
    {
     "data": {
      "text/plain": [
       "<Axes: >"
      ]
     },
     "execution_count": 6,
     "metadata": {},
     "output_type": "execute_result"
    },
    {
     "data": {
      "image/png": "[encoded data removed]",
      "text/plain": [
       "<Figure size 900x600 with 1 Axes>"
      ]
     },
     "metadata": {},
     "output_type": "display_data"
    }
   ],
   "source": [
    "df[\"Age\"].plot(kind=\"box\", figsize=(9,6))"
   ]
  },
  {
   "cell_type": "code",
   "execution_count": 8,
   "metadata": {},
   "outputs": [],
   "source": [
    "genders = df[\"Gender\"].value_counts()\n"
   ]
  },
  {
   "cell_type": "code",
   "execution_count": 15,
   "metadata": {},
   "outputs": [
    {
     "data": {
      "text/plain": [
       "<Axes: xlabel='Gender', ylabel='Days of treatment'>"
      ]
     },
     "execution_count": 15,
     "metadata": {},
     "output_type": "execute_result"
    },
    {
     "data": {
      "image/png": "[encoded data removed]",
      "text/plain": [
       "<Figure size 900x600 with 1 Axes>"
      ]
     },
     "metadata": {},
     "output_type": "display_data"
    }
   ],
   "source": [
    "# This shows the average days of treatment according to gender.\n",
    "plt.figure(figsize=(9,6))\n",
    "sns.barplot(data=df, x=\"Gender\", y =\"Days of treatment\")"
   ]
  },
  {
   "cell_type": "code",
   "execution_count": 16,
   "metadata": {},
   "outputs": [
    {
     "data": {
      "image/png": "[encoded data removed]",
      "text/plain": [
       "<Figure size 900x600 with 1 Axes>"
      ]
     },
     "metadata": {},
     "output_type": "display_data"
    }
   ],
   "source": [
    "plt.figure(figsize=(9,6))\n",
    "genders.plot(kind='bar', color='blue')\n",
    "plt.show()"
   ]
  },
  {
   "cell_type": "code",
   "execution_count": 6,
   "metadata": {},
   "outputs": [
    {
     "data": {
      "text/html": [
       "<div>\n",
       "<style scoped>\n",
       "    .dataframe tbody tr th:only-of-type {\n",
       "        vertical-align: middle;\n",
       "    }\n",
       "\n",
       "    .dataframe tbody tr th {\n",
       "        vertical-align: top;\n",
       "    }\n",
       "\n",
       "    .dataframe thead th {\n",
       "        text-align: right;\n",
       "    }\n",
       "</style>\n",
       "<table border=\"1\" class=\"dataframe\">\n",
       "  <thead>\n",
       "    <tr style=\"text-align: right;\">\n",
       "      <th></th>\n",
       "      <th>Name</th>\n",
       "      <th>Gender</th>\n",
       "      <th>Blood Type</th>\n",
       "      <th>Medical Condition</th>\n",
       "      <th>Date of Admission</th>\n",
       "      <th>Discharge Date</th>\n",
       "      <th>Age</th>\n",
       "      <th>Days of treatment</th>\n",
       "      <th>Month of admission</th>\n",
       "      <th>Doctor</th>\n",
       "      <th>Hospital</th>\n",
       "      <th>Room Number</th>\n",
       "      <th>Insurance Provider</th>\n",
       "      <th>Bill amount</th>\n",
       "      <th>Admission Type</th>\n",
       "      <th>Test Results</th>\n",
       "      <th>Medication</th>\n",
       "    </tr>\n",
       "  </thead>\n",
       "  <tbody>\n",
       "    <tr>\n",
       "      <th>0</th>\n",
       "      <td>Bobby Jackson</td>\n",
       "      <td>Male</td>\n",
       "      <td>B-</td>\n",
       "      <td>Cancer</td>\n",
       "      <td>31/1/24</td>\n",
       "      <td>2/2/24</td>\n",
       "      <td>30</td>\n",
       "      <td>2</td>\n",
       "      <td>Jan</td>\n",
       "      <td>Matthew Smith</td>\n",
       "      <td>Sons and Miller</td>\n",
       "      <td>328</td>\n",
       "      <td>Blue Cross</td>\n",
       "      <td>18856.2813</td>\n",
       "      <td>Urgent</td>\n",
       "      <td>Normal</td>\n",
       "      <td>Paracetamol</td>\n",
       "    </tr>\n",
       "    <tr>\n",
       "      <th>1</th>\n",
       "      <td>Leslie Terry</td>\n",
       "      <td>Male</td>\n",
       "      <td>A+</td>\n",
       "      <td>Obesity</td>\n",
       "      <td>20/8/19</td>\n",
       "      <td>26/8/19</td>\n",
       "      <td>62</td>\n",
       "      <td>6</td>\n",
       "      <td>Aug</td>\n",
       "      <td>Samantha Davies</td>\n",
       "      <td>Kim Inc</td>\n",
       "      <td>265</td>\n",
       "      <td>Medicare</td>\n",
       "      <td>33643.3273</td>\n",
       "      <td>Emergency</td>\n",
       "      <td>Inconclusive</td>\n",
       "      <td>Ibuprofen</td>\n",
       "    </tr>\n",
       "    <tr>\n",
       "      <th>2</th>\n",
       "      <td>Danny Smith</td>\n",
       "      <td>Female</td>\n",
       "      <td>A-</td>\n",
       "      <td>Obesity</td>\n",
       "      <td>22/9/22</td>\n",
       "      <td>7/10/22</td>\n",
       "      <td>76</td>\n",
       "      <td>15</td>\n",
       "      <td>Sep</td>\n",
       "      <td>Tiffany Mitchell</td>\n",
       "      <td>Cook PLC</td>\n",
       "      <td>205</td>\n",
       "      <td>Aetna</td>\n",
       "      <td>27955.0961</td>\n",
       "      <td>Emergency</td>\n",
       "      <td>Normal</td>\n",
       "      <td>Aspirin</td>\n",
       "    </tr>\n",
       "    <tr>\n",
       "      <th>3</th>\n",
       "      <td>Andrew Watts</td>\n",
       "      <td>Female</td>\n",
       "      <td>O+</td>\n",
       "      <td>Diabetes</td>\n",
       "      <td>18/11/20</td>\n",
       "      <td>18/12/20</td>\n",
       "      <td>28</td>\n",
       "      <td>30</td>\n",
       "      <td>Nov</td>\n",
       "      <td>Kevin Wells</td>\n",
       "      <td>Hernandez Rogers and Vang,</td>\n",
       "      <td>450</td>\n",
       "      <td>Medicare</td>\n",
       "      <td>37909.7824</td>\n",
       "      <td>Elective</td>\n",
       "      <td>Abnormal</td>\n",
       "      <td>Ibuprofen</td>\n",
       "    </tr>\n",
       "    <tr>\n",
       "      <th>4</th>\n",
       "      <td>Adrienne Bell</td>\n",
       "      <td>Female</td>\n",
       "      <td>AB+</td>\n",
       "      <td>Cancer</td>\n",
       "      <td>19/9/22</td>\n",
       "      <td>9/10/22</td>\n",
       "      <td>43</td>\n",
       "      <td>20</td>\n",
       "      <td>Sep</td>\n",
       "      <td>Kathleen Hanna</td>\n",
       "      <td>White-White</td>\n",
       "      <td>458</td>\n",
       "      <td>Aetna</td>\n",
       "      <td>14238.3178</td>\n",
       "      <td>Urgent</td>\n",
       "      <td>Abnormal</td>\n",
       "      <td>Penicillin</td>\n",
       "    </tr>\n",
       "  </tbody>\n",
       "</table>\n",
       "</div>"
      ],
      "text/plain": [
       "            Name  Gender Blood Type Medical Condition Date of Admission  \\\n",
       "0  Bobby Jackson    Male         B-            Cancer           31/1/24   \n",
       "1   Leslie Terry    Male         A+           Obesity           20/8/19   \n",
       "2    Danny Smith  Female         A-           Obesity           22/9/22   \n",
       "3   Andrew Watts  Female         O+          Diabetes          18/11/20   \n",
       "4  Adrienne Bell  Female        AB+            Cancer           19/9/22   \n",
       "\n",
       "  Discharge Date  Age  Days of treatment Month of admission            Doctor  \\\n",
       "0         2/2/24   30                  2                Jan     Matthew Smith   \n",
       "1        26/8/19   62                  6                Aug   Samantha Davies   \n",
       "2        7/10/22   76                 15                Sep  Tiffany Mitchell   \n",
       "3       18/12/20   28                 30                Nov       Kevin Wells   \n",
       "4        9/10/22   43                 20                Sep    Kathleen Hanna   \n",
       "\n",
       "                     Hospital  Room Number Insurance Provider  Bill amount  \\\n",
       "0             Sons and Miller          328         Blue Cross   18856.2813   \n",
       "1                     Kim Inc          265           Medicare   33643.3273   \n",
       "2                    Cook PLC          205              Aetna   27955.0961   \n",
       "3  Hernandez Rogers and Vang,          450           Medicare   37909.7824   \n",
       "4                 White-White          458              Aetna   14238.3178   \n",
       "\n",
       "  Admission Type  Test Results   Medication  \n",
       "0         Urgent        Normal  Paracetamol  \n",
       "1      Emergency  Inconclusive    Ibuprofen  \n",
       "2      Emergency        Normal      Aspirin  \n",
       "3       Elective      Abnormal    Ibuprofen  \n",
       "4         Urgent      Abnormal   Penicillin  "
      ]
     },
     "execution_count": 6,
     "metadata": {},
     "output_type": "execute_result"
    }
   ],
   "source": [
    "df.head()"
   ]
  },
  {
   "cell_type": "code",
   "execution_count": 11,
   "metadata": {},
   "outputs": [
    {
     "data": {
      "text/plain": [
       "count         54966\n",
       "unique            6\n",
       "top       Arthritis\n",
       "freq           9218\n",
       "Name: Medical Condition, dtype: object"
      ]
     },
     "execution_count": 11,
     "metadata": {},
     "output_type": "execute_result"
    }
   ],
   "source": [
    "df[\"Medical Condition\"].describe()"
   ]
  },
  {
   "cell_type": "code",
   "execution_count": 12,
   "metadata": {},
   "outputs": [],
   "source": [
    "condition = df[\"Medical Condition\"].value_counts()"
   ]
  },
  {
   "cell_type": "code",
   "execution_count": 15,
   "metadata": {},
   "outputs": [
    {
     "data": {
      "image/png": "[encoded data removed]",
      "text/plain": [
       "<Figure size 900x600 with 1 Axes>"
      ]
     },
     "metadata": {},
     "output_type": "display_data"
    }
   ],
   "source": [
    "plt.figure(figsize=(9,6))\n",
    "condition.plot(kind='bar', color = 'red')\n",
    "plt.show()"
   ]
  }
 ],
 "metadata": {
  "kernelspec": {
   "display_name": "base",
   "language": "python",
   "name": "python3"
  },
  "language_info": {
   "codemirror_mode": {
    "name": "ipython",
    "version": 3
   },
   "file_extension": ".py",
   "mimetype": "text/x-python",
   "name": "python",
   "nbconvert_exporter": "python",
   "pygments_lexer": "ipython3",
   "version": "3.12.4"
  }
 },
 "nbformat": 4,
 "nbformat_minor": 2
}
